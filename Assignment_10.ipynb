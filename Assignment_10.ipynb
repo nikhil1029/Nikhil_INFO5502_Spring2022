{
  "cells": [
    {
      "cell_type": "markdown",
      "metadata": {
        "id": "view-in-github",
        "colab_type": "text"
      },
      "source": [
        "<a href=\"https://colab.research.google.com/github/nikhil1029/Nikhil_INFO5502_Spring2022/blob/main/Assignment_10.ipynb\" target=\"_parent\"><img src=\"https://colab.research.google.com/assets/colab-badge.svg\" alt=\"Open In Colab\"/></a>"
      ]
    },
    {
      "cell_type": "markdown",
      "metadata": {
        "id": "DfqcM9YmMIL3"
      },
      "source": [
        "## The tenth Lab-assignment (04/28/2022, 50 points in total)"
      ]
    },
    {
      "cell_type": "markdown",
      "metadata": {
        "id": "HdfY5l2jMIL5"
      },
      "source": [
        "The purpose of this assignment is to practice normal distribution and annotation quality evaluation."
      ]
    },
    {
      "cell_type": "markdown",
      "metadata": {
        "id": "eDp93mXRMIL6"
      },
      "source": [
        "### Question 1 (25 points) \n",
        "\n",
        "Cohen's kappa coefficient (κ) is a statistic that is used to measure inter-rater reliability (and also intra-rater reliability) for qualitative (categorical) items. It is generally thought to be a more robust measure than simple percent agreement calculation, as κ takes into account the possibility of the agreement occurring by chance. There is controversy surrounding Cohen's kappa due to the difficulty in interpreting indices of agreement. Some researchers have suggested that it is conceptually simpler to evaluate disagreement between items.\n",
        "\n",
        "A more detailed description of Kappa agreement can be found on wikipedia: https://en.wikipedia.org/wiki/Cohen%27s_kappa\n",
        "\n",
        "Here is the dataset we created for a text classification task: https://github.com/unt-iialab/info5502-spring2022/blob/main/datasets/lab10-dataset.csv\n",
        "\n",
        "The last three columns indicate the annotation on the same sentence by three students respectively. Based on this dataset, please calculate the Cohen's kappa and the Fleiss' kappa using their formulars (Python). Please don't use any existing packages for the implementation. "
      ]
    },
    {
      "cell_type": "code",
      "execution_count": 7,
      "metadata": {
        "colab": {
          "base_uri": "https://localhost:8080/"
        },
        "id": "Cc57XIRfMIL7",
        "outputId": "2c1988f3-c244-4c78-b083-639b51ce324d"
      },
      "outputs": [
        {
          "output_type": "stream",
          "name": "stdout",
          "text": [
            "Collecting krippendorff\n",
            "  Downloading krippendorff-0.5.1-py3-none-any.whl (17 kB)\n",
            "Requirement already satisfied: numpy in /usr/local/lib/python3.7/dist-packages (from krippendorff) (1.21.6)\n",
            "Installing collected packages: krippendorff\n",
            "Successfully installed krippendorff-0.5.1\n"
          ]
        }
      ],
      "source": [
        "\n",
        "!pip install krippendorff\n",
        "\n"
      ]
    },
    {
      "cell_type": "code",
      "source": [
        "import pandas as pd\n",
        "import numpy as np\n",
        "from sklearn.preprocessing import LabelEncoder\n",
        "\n",
        "# read data from github\n",
        "data = pd.read_csv(\"https://raw.githubusercontent.com/unt-iialab/info5502-spring2022/main/datasets/lab10-dataset.csv\")\n",
        "data.head()"
      ],
      "metadata": {
        "colab": {
          "base_uri": "https://localhost:8080/",
          "height": 337
        },
        "id": "L8WmB_c5Mk5F",
        "outputId": "15408116-433a-437f-9357-2dcd44b5002c"
      },
      "execution_count": 8,
      "outputs": [
        {
          "output_type": "execute_result",
          "data": {
            "text/plain": [
              "                                    Title of Article  \\\n",
              "0  The measurement of ÒinterdisciplinarityÓ and Ò...   \n",
              "1  Innovation adoption: Broadcasting versus virality   \n",
              "2  Discovering underlying sensations of human emo...   \n",
              "3  Discovering underlying sensations of human emo...   \n",
              "4  Discovering underlying sensations of human emo...   \n",
              "\n",
              "                                       Contributions  Source  \\\n",
              "0  In this study, we discuss recent advances in t...  JASIST   \n",
              "1  broadcasting and virality have similar diffusi...  JASIST   \n",
              "2  we report the results of our study on sensatio...  JASIST   \n",
              "3  in the second part of the paper, we define nov...  JASIST   \n",
              "4  we design a method to classify texts into ones...  JASIST   \n",
              "\n",
              "                                        Annotation1  \\\n",
              "0  Algorithms/ Methods Construction or Optimization   \n",
              "1                                 Theory proposal\\n   \n",
              "2                                 Theory proposal\\n   \n",
              "3                                 Theory proposal\\n   \n",
              "4  Algorithms/ Methods Construction or Optimization   \n",
              "\n",
              "                                        Annotation2  \\\n",
              "0  Algorithms/ Methods Construction or Optimization   \n",
              "1                                 Theory proposal\\n   \n",
              "2  Algorithms/ Methods Construction or Optimization   \n",
              "3                                 Theory proposal\\n   \n",
              "4                Model Construction or Optimization   \n",
              "\n",
              "                                        Annotation3  Year  \n",
              "0  Algorithms/ Methods Construction or Optimization   NaN  \n",
              "1                                 Theory proposal\\n   NaN  \n",
              "2                                 Theory proposal\\n   NaN  \n",
              "3                                 Theory proposal\\n   NaN  \n",
              "4  Algorithms/ Methods Construction or Optimization   NaN  "
            ],
            "text/html": [
              "\n",
              "  <div id=\"df-c86fbad7-5c34-488d-ae2c-b9032bdd0a5b\">\n",
              "    <div class=\"colab-df-container\">\n",
              "      <div>\n",
              "<style scoped>\n",
              "    .dataframe tbody tr th:only-of-type {\n",
              "        vertical-align: middle;\n",
              "    }\n",
              "\n",
              "    .dataframe tbody tr th {\n",
              "        vertical-align: top;\n",
              "    }\n",
              "\n",
              "    .dataframe thead th {\n",
              "        text-align: right;\n",
              "    }\n",
              "</style>\n",
              "<table border=\"1\" class=\"dataframe\">\n",
              "  <thead>\n",
              "    <tr style=\"text-align: right;\">\n",
              "      <th></th>\n",
              "      <th>Title of Article</th>\n",
              "      <th>Contributions</th>\n",
              "      <th>Source</th>\n",
              "      <th>Annotation1</th>\n",
              "      <th>Annotation2</th>\n",
              "      <th>Annotation3</th>\n",
              "      <th>Year</th>\n",
              "    </tr>\n",
              "  </thead>\n",
              "  <tbody>\n",
              "    <tr>\n",
              "      <th>0</th>\n",
              "      <td>The measurement of ÒinterdisciplinarityÓ and Ò...</td>\n",
              "      <td>In this study, we discuss recent advances in t...</td>\n",
              "      <td>JASIST</td>\n",
              "      <td>Algorithms/ Methods Construction or Optimization</td>\n",
              "      <td>Algorithms/ Methods Construction or Optimization</td>\n",
              "      <td>Algorithms/ Methods Construction or Optimization</td>\n",
              "      <td>NaN</td>\n",
              "    </tr>\n",
              "    <tr>\n",
              "      <th>1</th>\n",
              "      <td>Innovation adoption: Broadcasting versus virality</td>\n",
              "      <td>broadcasting and virality have similar diffusi...</td>\n",
              "      <td>JASIST</td>\n",
              "      <td>Theory proposal\\n</td>\n",
              "      <td>Theory proposal\\n</td>\n",
              "      <td>Theory proposal\\n</td>\n",
              "      <td>NaN</td>\n",
              "    </tr>\n",
              "    <tr>\n",
              "      <th>2</th>\n",
              "      <td>Discovering underlying sensations of human emo...</td>\n",
              "      <td>we report the results of our study on sensatio...</td>\n",
              "      <td>JASIST</td>\n",
              "      <td>Theory proposal\\n</td>\n",
              "      <td>Algorithms/ Methods Construction or Optimization</td>\n",
              "      <td>Theory proposal\\n</td>\n",
              "      <td>NaN</td>\n",
              "    </tr>\n",
              "    <tr>\n",
              "      <th>3</th>\n",
              "      <td>Discovering underlying sensations of human emo...</td>\n",
              "      <td>in the second part of the paper, we define nov...</td>\n",
              "      <td>JASIST</td>\n",
              "      <td>Theory proposal\\n</td>\n",
              "      <td>Theory proposal\\n</td>\n",
              "      <td>Theory proposal\\n</td>\n",
              "      <td>NaN</td>\n",
              "    </tr>\n",
              "    <tr>\n",
              "      <th>4</th>\n",
              "      <td>Discovering underlying sensations of human emo...</td>\n",
              "      <td>we design a method to classify texts into ones...</td>\n",
              "      <td>JASIST</td>\n",
              "      <td>Algorithms/ Methods Construction or Optimization</td>\n",
              "      <td>Model Construction or Optimization</td>\n",
              "      <td>Algorithms/ Methods Construction or Optimization</td>\n",
              "      <td>NaN</td>\n",
              "    </tr>\n",
              "  </tbody>\n",
              "</table>\n",
              "</div>\n",
              "      <button class=\"colab-df-convert\" onclick=\"convertToInteractive('df-c86fbad7-5c34-488d-ae2c-b9032bdd0a5b')\"\n",
              "              title=\"Convert this dataframe to an interactive table.\"\n",
              "              style=\"display:none;\">\n",
              "        \n",
              "  <svg xmlns=\"http://www.w3.org/2000/svg\" height=\"24px\"viewBox=\"0 0 24 24\"\n",
              "       width=\"24px\">\n",
              "    <path d=\"M0 0h24v24H0V0z\" fill=\"none\"/>\n",
              "    <path d=\"M18.56 5.44l.94 2.06.94-2.06 2.06-.94-2.06-.94-.94-2.06-.94 2.06-2.06.94zm-11 1L8.5 8.5l.94-2.06 2.06-.94-2.06-.94L8.5 2.5l-.94 2.06-2.06.94zm10 10l.94 2.06.94-2.06 2.06-.94-2.06-.94-.94-2.06-.94 2.06-2.06.94z\"/><path d=\"M17.41 7.96l-1.37-1.37c-.4-.4-.92-.59-1.43-.59-.52 0-1.04.2-1.43.59L10.3 9.45l-7.72 7.72c-.78.78-.78 2.05 0 2.83L4 21.41c.39.39.9.59 1.41.59.51 0 1.02-.2 1.41-.59l7.78-7.78 2.81-2.81c.8-.78.8-2.07 0-2.86zM5.41 20L4 18.59l7.72-7.72 1.47 1.35L5.41 20z\"/>\n",
              "  </svg>\n",
              "      </button>\n",
              "      \n",
              "  <style>\n",
              "    .colab-df-container {\n",
              "      display:flex;\n",
              "      flex-wrap:wrap;\n",
              "      gap: 12px;\n",
              "    }\n",
              "\n",
              "    .colab-df-convert {\n",
              "      background-color: #E8F0FE;\n",
              "      border: none;\n",
              "      border-radius: 50%;\n",
              "      cursor: pointer;\n",
              "      display: none;\n",
              "      fill: #1967D2;\n",
              "      height: 32px;\n",
              "      padding: 0 0 0 0;\n",
              "      width: 32px;\n",
              "    }\n",
              "\n",
              "    .colab-df-convert:hover {\n",
              "      background-color: #E2EBFA;\n",
              "      box-shadow: 0px 1px 2px rgba(60, 64, 67, 0.3), 0px 1px 3px 1px rgba(60, 64, 67, 0.15);\n",
              "      fill: #174EA6;\n",
              "    }\n",
              "\n",
              "    [theme=dark] .colab-df-convert {\n",
              "      background-color: #3B4455;\n",
              "      fill: #D2E3FC;\n",
              "    }\n",
              "\n",
              "    [theme=dark] .colab-df-convert:hover {\n",
              "      background-color: #434B5C;\n",
              "      box-shadow: 0px 1px 3px 1px rgba(0, 0, 0, 0.15);\n",
              "      filter: drop-shadow(0px 1px 2px rgba(0, 0, 0, 0.3));\n",
              "      fill: #FFFFFF;\n",
              "    }\n",
              "  </style>\n",
              "\n",
              "      <script>\n",
              "        const buttonEl =\n",
              "          document.querySelector('#df-c86fbad7-5c34-488d-ae2c-b9032bdd0a5b button.colab-df-convert');\n",
              "        buttonEl.style.display =\n",
              "          google.colab.kernel.accessAllowed ? 'block' : 'none';\n",
              "\n",
              "        async function convertToInteractive(key) {\n",
              "          const element = document.querySelector('#df-c86fbad7-5c34-488d-ae2c-b9032bdd0a5b');\n",
              "          const dataTable =\n",
              "            await google.colab.kernel.invokeFunction('convertToInteractive',\n",
              "                                                     [key], {});\n",
              "          if (!dataTable) return;\n",
              "\n",
              "          const docLinkHtml = 'Like what you see? Visit the ' +\n",
              "            '<a target=\"_blank\" href=https://colab.research.google.com/notebooks/data_table.ipynb>data table notebook</a>'\n",
              "            + ' to learn more about interactive tables.';\n",
              "          element.innerHTML = '';\n",
              "          dataTable['output_type'] = 'display_data';\n",
              "          await google.colab.output.renderOutput(dataTable, element);\n",
              "          const docLink = document.createElement('div');\n",
              "          docLink.innerHTML = docLinkHtml;\n",
              "          element.appendChild(docLink);\n",
              "        }\n",
              "      </script>\n",
              "    </div>\n",
              "  </div>\n",
              "  "
            ]
          },
          "metadata": {},
          "execution_count": 8
        }
      ]
    },
    {
      "cell_type": "code",
      "source": [
        "# label encode the categorical columns data\n",
        "le = LabelEncoder()\n",
        "\n",
        "# label encode\n",
        "le.fit(data['Annotation1'])\n",
        "\n",
        "# fitting the Annotation 1 data and transforming the annotation 2 & annotation 3\n",
        "data['le_Annotation1'] = le.transform(data['Annotation1'])\n",
        "data['le_Annotation2'] = le.transform(data['Annotation2'])\n",
        "data['le_Annotation3'] = le.transform(data['Annotation3'])"
      ],
      "metadata": {
        "id": "qri0guJ1MqNy"
      },
      "execution_count": 9,
      "outputs": []
    },
    {
      "cell_type": "code",
      "source": [
        "from sklearn.metrics import cohen_kappa_score\n",
        "\n",
        "# finding pair-wise cohen's kappa score\n",
        "score1 = cohen_kappa_score(list(data['le_Annotation1'].values), list(data['le_Annotation2'].values))\n",
        "score2 = cohen_kappa_score(list(data['le_Annotation2'].values), list(data['le_Annotation3'].values))\n",
        "score3 = cohen_kappa_score(list(data['le_Annotation1'].values), list(data['le_Annotation3'].values))\n",
        "\n",
        "# take average of all 3 scores\n",
        "avg_kappa_score = (score1 + score2 + score3)/3\n",
        "print(\"Score of Cohen's kappa is:\", round(avg_kappa_score, 2))\n",
        "\n",
        "# determining agreement based on cohen kappa score\n",
        "if avg_kappa_score < 0.0:\n",
        "    print(\"Less than chance agreement\")\n",
        "\n",
        "elif ((avg_kappa_score >= 0.01) & (avg_kappa_score <= 0.20)):\n",
        "    print(\"Slight agreement\")\n",
        "\n",
        "elif ((avg_kappa_score >= 0.21) and (avg_kappa_score <= 0.40)):\n",
        "    print(\"Fair agreement\")\n",
        "\n",
        "elif ((avg_kappa_score >= 0.41) and (avg_kappa_score <= 0.60)):\n",
        "    print(\"Moderate agreement\")\n",
        "\n",
        "elif ((avg_kappa_score >= 0.61) and (avg_kappa_score <= 0.80)):\n",
        "    print(\"Substantial agreement\")\n",
        "\n",
        "elif ((avg_kappa_score >= 0.81) and (avg_kappa_score <= 0.99)):\n",
        "    print(\"Almost perfect agreement\")"
      ],
      "metadata": {
        "colab": {
          "base_uri": "https://localhost:8080/"
        },
        "id": "en5vwXkEvagT",
        "outputId": "2d3d8f04-9c9e-4f89-9cfa-2d968af77a1b"
      },
      "execution_count": 10,
      "outputs": [
        {
          "output_type": "stream",
          "name": "stdout",
          "text": [
            "Score of Cohen's kappa is: 0.54\n",
            "Moderate agreement\n"
          ]
        }
      ]
    },
    {
      "cell_type": "code",
      "source": [
        "import krippendorff\n",
        "data1 = [list(data['le_Annotation1'].values),\n",
        "        list(data['le_Annotation2'].values),\n",
        "        list(data['le_Annotation3'].values)]\n",
        "\n",
        "# fleiss kappa score\n",
        "fleiss_score = krippendorff.alpha(data1)\n",
        "print(\"Fleiss kappa score is:\", round(fleiss_score, 2))"
      ],
      "metadata": {
        "colab": {
          "base_uri": "https://localhost:8080/"
        },
        "id": "hzPdAUY4vtSS",
        "outputId": "c713a3f5-47d9-43d1-ef8b-2267b5401849"
      },
      "execution_count": 11,
      "outputs": [
        {
          "output_type": "stream",
          "name": "stdout",
          "text": [
            "Fleiss kappa score is: 0.57\n"
          ]
        }
      ]
    },
    {
      "cell_type": "markdown",
      "metadata": {
        "id": "LiXj2NZVMIL7"
      },
      "source": [
        "### Question 2 (25 points) \n",
        "\n",
        "Normal distribution is the default probability for many real world scenarios. It represents a symmetric distribution where most of the observations cluster around the central peak called as mean of the distribution. A normal distribution can be thought of as a bell curve or Gaussian Distribution which typically has two parameters: mean and standard deviation (SD). The parameter used to measure the variability of observations around the mean is called as standard deviation. The probabilities for values occurring near mean are higher than the values far away from the mean. The parameters of the normal distribution plot defining the shape and the probabilities are mean and standard deviation. The area of the plot between two different points in the normal distribution plot represents the probability of the value occurring between those two points.\n",
        "\n",
        "Please generate the nromal distribution for the following cases suing Python:\n",
        "\n",
        "(1) IQ scores (the mean is typically 100, SD = 15)\n",
        "\n",
        "(2) Marks of students in a class (mean = 60, SD = 20)\n",
        "\n",
        "(3) Measure of weight (mean = 80 kg, SD = 10)\n",
        "\n",
        "(4) Measure of blood pressure (mean = 120/80, SD = 20)\n",
        "\n",
        "(5) Measure of wealth (measurement in money; mean = $50,000 , SD = $100)"
      ]
    },
    {
      "cell_type": "code",
      "execution_count": 13,
      "metadata": {
        "id": "26T_3oByMIL8",
        "colab": {
          "base_uri": "https://localhost:8080/",
          "height": 295
        },
        "outputId": "9c43d22c-4c73-48e5-ed1f-e6506700ebc6"
      },
      "outputs": [
        {
          "output_type": "display_data",
          "data": {
            "text/plain": [
              "<Figure size 432x288 with 1 Axes>"
            ],
            "image/png": "[encoded data removed]"
          },
          "metadata": {
            "needs_background": "light"
          }
        }
      ],
      "source": [
        "# your code here\n",
        "\n",
        "%matplotlib inline\n",
        "import math\n",
        "import matplotlib.pyplot as plt\n",
        "import numpy as np\n",
        "import scipy.stats\n",
        "\n",
        "# plotting normal distribution\n",
        "ku = 100\n",
        "sigma = 15\n",
        "k = np.linspace(ku - 3*sigma, ku + 3*sigma, 100)\n",
        "plt.plot(k, scipy.stats.norm.pdf(k, ku, sigma))\n",
        "plt.title(\"IQ scores\")\n",
        "plt.xlabel(\"IQ score\")\n",
        "plt.show()\n",
        "\n"
      ]
    },
    {
      "cell_type": "code",
      "source": [
        "ku = 60\n",
        "sigma = 20\n",
        "x = np.linspace(ku - 3*sigma, ku + 3*sigma, 100)\n",
        "plt.plot(x, scipy.stats.norm.pdf(x, ku, sigma))\n",
        "plt.title(\"Class students marks\")\n",
        "plt.xlabel(\"Marks\")\n",
        "plt.show()"
      ],
      "metadata": {
        "colab": {
          "base_uri": "https://localhost:8080/",
          "height": 295
        },
        "id": "yOWDl3CnwHBf",
        "outputId": "70ab4b7e-5282-44de-cdbc-dd1552c6f98f"
      },
      "execution_count": 15,
      "outputs": [
        {
          "output_type": "display_data",
          "data": {
            "text/plain": [
              "<Figure size 432x288 with 1 Axes>"
            ],
            "image/png": "[encoded data removed]"
          },
          "metadata": {
            "needs_background": "light"
          }
        }
      ]
    },
    {
      "cell_type": "code",
      "source": [
        "ku = 80\n",
        "sigma = 10\n",
        "x = np.linspace(ku - 3*sigma, ku + 3*sigma, 100)\n",
        "plt.plot(x, scipy.stats.norm.pdf(x, ku, sigma))\n",
        "plt.title(\"Measure of weight\")\n",
        "plt.xlabel(\"Weight\")\n",
        "plt.show()"
      ],
      "metadata": {
        "colab": {
          "base_uri": "https://localhost:8080/",
          "height": 295
        },
        "id": "8xoAe-zVwUit",
        "outputId": "fa1a9a6f-6acf-41df-b74f-491a7c898b71"
      },
      "execution_count": 16,
      "outputs": [
        {
          "output_type": "display_data",
          "data": {
            "text/plain": [
              "<Figure size 432x288 with 1 Axes>"
            ],
            "image/png": "[encoded data removed]"
          },
          "metadata": {
            "needs_background": "light"
          }
        }
      ]
    },
    {
      "cell_type": "code",
      "source": [
        "ku = 120\n",
        "sigma = 20\n",
        "x = np.linspace(ku - 3*sigma, ku + 3*sigma, 100)\n",
        "plt.plot(x, scipy.stats.norm.pdf(x, ku, sigma))\n",
        "plt.title(\"Blood pressure Measure\")\n",
        "plt.xlabel(\"Blood Pressure\")\n",
        "plt.show()"
      ],
      "metadata": {
        "colab": {
          "base_uri": "https://localhost:8080/",
          "height": 295
        },
        "id": "_i71owaTwcmT",
        "outputId": "08b52366-3055-442a-a124-76f62fae0b08"
      },
      "execution_count": 17,
      "outputs": [
        {
          "output_type": "display_data",
          "data": {
            "text/plain": [
              "<Figure size 432x288 with 1 Axes>"
            ],
            "image/png": "[encoded data removed]"
          },
          "metadata": {
            "needs_background": "light"
          }
        }
      ]
    },
    {
      "cell_type": "code",
      "source": [
        "ku = 50000\n",
        "sigma = 100\n",
        "x = np.linspace(ku - 3*sigma, ku + 3*sigma, 100)\n",
        "plt.plot(x, scipy.stats.norm.pdf(x, ku, sigma))\n",
        "plt.title(\"Measure of wealth\")\n",
        "plt.xlabel(\"Wealth\")\n",
        "plt.show()"
      ],
      "metadata": {
        "colab": {
          "base_uri": "https://localhost:8080/",
          "height": 295
        },
        "id": "Fy_y5LpSwrFI",
        "outputId": "87c325d9-3c53-4984-cf17-7a560b952c6c"
      },
      "execution_count": 19,
      "outputs": [
        {
          "output_type": "display_data",
          "data": {
            "text/plain": [
              "<Figure size 432x288 with 1 Axes>"
            ],
            "image/png": "[encoded data removed]"
          },
          "metadata": {
            "needs_background": "light"
          }
        }
      ]
    }
  ],
  "metadata": {
    "kernelspec": {
      "display_name": "Python 3",
      "language": "python",
      "name": "python3"
    },
    "language_info": {
      "codemirror_mode": {
        "name": "ipython",
        "version": 3
      },
      "file_extension": ".py",
      "mimetype": "text/x-python",
      "name": "python",
      "nbconvert_exporter": "python",
      "pygments_lexer": "ipython3",
      "version": "3.8.5"
    },
    "colab": {
      "name": "Assignment_10.ipynb",
      "provenance": [],
      "collapsed_sections": [],
      "include_colab_link": true
    }
  },
  "nbformat": 4,
  "nbformat_minor": 0
}