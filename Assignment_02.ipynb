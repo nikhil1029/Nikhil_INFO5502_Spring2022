{
  "nbformat": 4,
  "nbformat_minor": 0,
  "metadata": {
    "colab": {
      "name": "Assignment_02.ipynb",
      "provenance": [],
      "collapsed_sections": [],
      "toc_visible": true,
      "authorship_tag": "ABX9TyOJN3ORJSMqFjTUs6bXhiRl",
      "include_colab_link": true
    },
    "kernelspec": {
      "name": "python3",
      "display_name": "Python 3"
    },
    "language_info": {
      "name": "python"
    }
  },
  "cells": [
    {
      "cell_type": "markdown",
      "metadata": {
        "id": "view-in-github",
        "colab_type": "text"
      },
      "source": [
        "<a href=\"https://colab.research.google.com/github/nikhil1029/Nikhil_INFO5502_Spring2022/blob/main/Assignment_02.ipynb\" target=\"_parent\"><img src=\"https://colab.research.google.com/assets/colab-badge.svg\" alt=\"Open In Colab\"/></a>"
      ]
    },
    {
      "cell_type": "code",
      "execution_count": null,
      "metadata": {
        "colab": {
          "base_uri": "https://localhost:8080/"
        },
        "id": "NbYQLHVzGs3N",
        "outputId": "754419b8-a671-4d7a-ca52-1a8b35de54ec"
      },
      "outputs": [
        {
          "output_type": "stream",
          "name": "stdout",
          "text": [
            "[3, 21, 44, 50, 51, 57, 67, 69, 77, 78, 83, 85]\n",
            "[85, 83, 78, 77, 69, 67, 57, 51, 50, 44, 21, 3]\n"
          ]
        }
      ],
      "source": [
        "#Python program to generate random numbers between 1 to 100\n",
        "import random\n",
        "ass=[]\n",
        "des=[]\n",
        "average=0\n",
        "for i in range(0,12):\n",
        "    n=random.randint(1,100)\n",
        "    ass.append(n)\n",
        "    des.append(n)\n",
        "    average+=n\n",
        "ass.sort()\n",
        "des.sort(reverse=True)\n",
        "average=average/12\n",
        "print(ass)\n",
        "print(des)"
      ]
    },
    {
      "cell_type": "code",
      "source": [
        "import re\n",
        "import collections\n",
        "import operator\n",
        "str1=input(\"enter string1: \")\n",
        "str2=input(\"enter string2: \")\n",
        "s1=re.findall(r'\\w+|[^\\s\\w]+', str1)\n",
        "print(\"list of string1: \",s1)\n",
        "s2=re.findall(r'\\w+|[^\\s\\w]+', str2)\n",
        "print(\"list of string2: \",s2)\n",
        "s3=[]\n",
        "for i in s1:\n",
        "    for j in s2:\n",
        "        if i==j or i.lower()==j or j.lower()==i:\n",
        "            s3.append(i)\n",
        "print(\"common words in a string: \",s3)\n",
        "print(\"String1 after removing punctuations : \", re.sub(r'[^\\w\\s]', '', str1))\n",
        "print(\"String2 after removing punctuations : \", re.sub(r'[^\\w\\s]', '', str2))\n",
        "string=str1+str2\n",
        "counts={}\n",
        "for vowel in \"aeiou\":\n",
        "    count = string.count(vowel)\n",
        "    counts[vowel] = count\n",
        "print(dict(sorted(counts.items(), key=operator.itemgetter(1),reverse=True)))\n"
      ],
      "metadata": {
        "colab": {
          "base_uri": "https://localhost:8080/"
        },
        "id": "05W_O_ASJXKz",
        "outputId": "cdad1bb9-2fc0-4d38-cf2f-35d2eac219f0"
      },
      "execution_count": null,
      "outputs": [
        {
          "output_type": "stream",
          "name": "stdout",
          "text": [
            "enter string1: Python is good programming language\n",
            "enter string2: Data science students need python ! as a core subject\n",
            "list of string1:  ['Python', 'is', 'good', 'programming', 'language']\n",
            "list of string2:  ['Data', 'science', 'students', 'need', 'python', '!', 'as', 'a', 'core', 'subject']\n",
            "common words in a string:  ['Python']\n",
            "String1 after removing punctuations :  Python is good programming language\n",
            "String2 after removing punctuations :  Data science students need python  as a core subject\n",
            "{'e': 8, 'a': 7, 'o': 6, 'i': 3, 'u': 3}\n"
          ]
        }
      ]
    },
    {
      "cell_type": "code",
      "source": [
        "#Program to calculate value of V \n",
        "r=float(input(\"\"))\n",
        "pi=22/7\n",
        "print(\"r\"+\" \"*3+\"V\")\n",
        "for i in range(1,11):\n",
        "    v=float(4.0/3.0*pi*i**3)\n",
        "    print(i,\"\"*3,v)"
      ],
      "metadata": {
        "colab": {
          "base_uri": "https://localhost:8080/"
        },
        "id": "ExGNEJjZKt--",
        "outputId": "91ee1cef-76a0-4ef5-cba8-13195282c258"
      },
      "execution_count": null,
      "outputs": [
        {
          "output_type": "stream",
          "name": "stdout",
          "text": [
            "1\n",
            "r   V\n",
            "1  4.19047619047619\n",
            "2  33.52380952380952\n",
            "3  113.14285714285712\n",
            "4  268.19047619047615\n",
            "5  523.8095238095237\n",
            "6  905.142857142857\n",
            "7  1437.333333333333\n",
            "8  2145.523809523809\n",
            "9  3054.857142857142\n",
            "10  4190.47619047619\n"
          ]
        }
      ]
    },
    {
      "cell_type": "code",
      "source": [
        "import pandas as pd\n",
        "df = pd.read_csv(\"https://raw.githubusercontent.com/nikhil1029/Nikhil_INFO5502_Spring2022/main/lab_assignment_02_denton_housing%20(1).csv\")\n",
        "print(\"Difference between occupied houses for every consecutive years\")\n",
        "df['value'][df.title_field ==\"Occupied Housing Units\"].diff()\n",
        "#print(\"percentage of vacant and occupied houses\")\n",
        "#df['Vacant Housing Units'] =df['value'][df.title_field==\"Vacant Housing Units\"]\n",
        "#print(df['Vacant Housing Units'])\n",
        "\n",
        " \n",
        "\n",
        "\n",
        "\n"
      ],
      "metadata": {
        "colab": {
          "base_uri": "https://localhost:8080/"
        },
        "id": "1VzepNvEResT",
        "outputId": "ec6d7e34-63bb-47cb-b1d5-77caceb60882"
      },
      "execution_count": 77,
      "outputs": [
        {
          "output_type": "stream",
          "name": "stdout",
          "text": [
            "Difference between occupied houses for every consecutive years\n"
          ]
        },
        {
          "output_type": "execute_result",
          "data": {
            "text/plain": [
              "2        NaN\n",
              "5    -2622.0\n",
              "8    -1565.0\n",
              "11   -1404.0\n",
              "14     303.0\n",
              "17   -5091.0\n",
              "20     795.0\n",
              "Name: value, dtype: float64"
            ]
          },
          "metadata": {},
          "execution_count": 77
        }
      ]
    }
  ]
}