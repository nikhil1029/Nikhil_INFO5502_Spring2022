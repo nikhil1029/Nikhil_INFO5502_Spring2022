{
  "nbformat": 4,
  "nbformat_minor": 0,
  "metadata": {
    "colab": {
      "name": "Assignment_6.ipynb",
      "provenance": [],
      "collapsed_sections": [],
      "authorship_tag": "ABX9TyNOeX+EGjfMZd9RgCthMEnC",
      "include_colab_link": true
    },
    "kernelspec": {
      "name": "python3",
      "display_name": "Python 3"
    },
    "language_info": {
      "name": "python"
    }
  },
  "cells": [
    {
      "cell_type": "markdown",
      "metadata": {
        "id": "view-in-github",
        "colab_type": "text"
      },
      "source": [
        "<a href=\"https://colab.research.google.com/github/nikhil1029/Nikhil_INFO5502_Spring2022/blob/main/Assignment_6.ipynb\" target=\"_parent\"><img src=\"https://colab.research.google.com/assets/colab-badge.svg\" alt=\"Open In Colab\"/></a>"
      ]
    },
    {
      "cell_type": "code",
      "execution_count": null,
      "metadata": {
        "colab": {
          "base_uri": "https://localhost:8080/"
        },
        "id": "B6j0hURQ2AsL",
        "outputId": "5aff166c-aa59-40e8-9ad6-428e3195040f"
      },
      "outputs": [
        {
          "output_type": "stream",
          "name": "stdout",
          "text": [
            "\n",
            " Total Number of samples: 9174 and Total number of features: 12 \n",
            "\n"
          ]
        }
      ],
      "source": [
        "import pandas as pd\n",
        "import numpy as np\n",
        "import csv as csv\n",
        "import matplotlib\n",
        "import seaborn as sns\n",
        "from datetime import datetime\n",
        "import matplotlib.pyplot as plt\n",
        "from sklearn import preprocessing\n",
        "%matplotlib inline\n",
        "\n",
        "train_df = pd.read_table(\"https://raw.githubusercontent.com/unt-iialab/info5502-spring2022/main/datasets/lab_assignment_06/train_luc.csv\", sep=',',header=0)\n",
        "\n",
        "print(\"\\n Total Number of samples:\",train_df.shape[0],\"and Total number of features:\",train_df.shape[1],\"\\n\")"
      ]
    },
    {
      "cell_type": "code",
      "source": [
        "#Adding of Columns Hour and Month\n",
        "def hour_of_day(dt):\n",
        "    return datetime.strptime(dt, \"%Y-%m-%d %H:%M:%S\").time().hour\n",
        "def month_of_day(dt):\n",
        "    return datetime.strptime(dt, \"%Y-%m-%d %H:%M:%S\").month\n",
        "train_df['hour'] = train_df['datetime'].map(hour_of_day)\n",
        "train_df['month'] = train_df['datetime'].map(month_of_day)\n",
        "train_df.head()"
      ],
      "metadata": {
        "colab": {
          "base_uri": "https://localhost:8080/",
          "height": 206
        },
        "id": "KNbo7fW42L-H",
        "outputId": "2e037dba-b3dd-496e-a079-756506f94b48"
      },
      "execution_count": null,
      "outputs": [
        {
          "output_type": "execute_result",
          "data": {
            "text/plain": [
              "              datetime  season  holiday  workingday  weather  temp   atemp  \\\n",
              "0  2011-01-01 00:00:00       1        0           0        1  9.84  14.395   \n",
              "1  2011-01-01 01:00:00       1        0           0        1  9.02  13.635   \n",
              "2  2011-01-01 02:00:00       1        0           0        1  9.02  13.635   \n",
              "3  2011-01-01 03:00:00       1        0           0        1  9.84  14.395   \n",
              "4  2011-01-01 04:00:00       1        0           0        1  9.84  14.395   \n",
              "\n",
              "   humidity  windspeed  casual  registered  count  hour  month  \n",
              "0        81        0.0       3          13     16     0      1  \n",
              "1        80        0.0       8          32     40     1      1  \n",
              "2        80        0.0       5          27     32     2      1  \n",
              "3        75        0.0       3          10     13     3      1  \n",
              "4        75        0.0       0           1      1     4      1  "
            ],
            "text/html": [
              "\n",
              "  <div id=\"df-5f653566-6103-417f-b5ab-0ab9e7475b31\">\n",
              "    <div class=\"colab-df-container\">\n",
              "      <div>\n",
              "<style scoped>\n",
              "    .dataframe tbody tr th:only-of-type {\n",
              "        vertical-align: middle;\n",
              "    }\n",
              "\n",
              "    .dataframe tbody tr th {\n",
              "        vertical-align: top;\n",
              "    }\n",
              "\n",
              "    .dataframe thead th {\n",
              "        text-align: right;\n",
              "    }\n",
              "</style>\n",
              "<table border=\"1\" class=\"dataframe\">\n",
              "  <thead>\n",
              "    <tr style=\"text-align: right;\">\n",
              "      <th></th>\n",
              "      <th>datetime</th>\n",
              "      <th>season</th>\n",
              "      <th>holiday</th>\n",
              "      <th>workingday</th>\n",
              "      <th>weather</th>\n",
              "      <th>temp</th>\n",
              "      <th>atemp</th>\n",
              "      <th>humidity</th>\n",
              "      <th>windspeed</th>\n",
              "      <th>casual</th>\n",
              "      <th>registered</th>\n",
              "      <th>count</th>\n",
              "      <th>hour</th>\n",
              "      <th>month</th>\n",
              "    </tr>\n",
              "  </thead>\n",
              "  <tbody>\n",
              "    <tr>\n",
              "      <th>0</th>\n",
              "      <td>2011-01-01 00:00:00</td>\n",
              "      <td>1</td>\n",
              "      <td>0</td>\n",
              "      <td>0</td>\n",
              "      <td>1</td>\n",
              "      <td>9.84</td>\n",
              "      <td>14.395</td>\n",
              "      <td>81</td>\n",
              "      <td>0.0</td>\n",
              "      <td>3</td>\n",
              "      <td>13</td>\n",
              "      <td>16</td>\n",
              "      <td>0</td>\n",
              "      <td>1</td>\n",
              "    </tr>\n",
              "    <tr>\n",
              "      <th>1</th>\n",
              "      <td>2011-01-01 01:00:00</td>\n",
              "      <td>1</td>\n",
              "      <td>0</td>\n",
              "      <td>0</td>\n",
              "      <td>1</td>\n",
              "      <td>9.02</td>\n",
              "      <td>13.635</td>\n",
              "      <td>80</td>\n",
              "      <td>0.0</td>\n",
              "      <td>8</td>\n",
              "      <td>32</td>\n",
              "      <td>40</td>\n",
              "      <td>1</td>\n",
              "      <td>1</td>\n",
              "    </tr>\n",
              "    <tr>\n",
              "      <th>2</th>\n",
              "      <td>2011-01-01 02:00:00</td>\n",
              "      <td>1</td>\n",
              "      <td>0</td>\n",
              "      <td>0</td>\n",
              "      <td>1</td>\n",
              "      <td>9.02</td>\n",
              "      <td>13.635</td>\n",
              "      <td>80</td>\n",
              "      <td>0.0</td>\n",
              "      <td>5</td>\n",
              "      <td>27</td>\n",
              "      <td>32</td>\n",
              "      <td>2</td>\n",
              "      <td>1</td>\n",
              "    </tr>\n",
              "    <tr>\n",
              "      <th>3</th>\n",
              "      <td>2011-01-01 03:00:00</td>\n",
              "      <td>1</td>\n",
              "      <td>0</td>\n",
              "      <td>0</td>\n",
              "      <td>1</td>\n",
              "      <td>9.84</td>\n",
              "      <td>14.395</td>\n",
              "      <td>75</td>\n",
              "      <td>0.0</td>\n",
              "      <td>3</td>\n",
              "      <td>10</td>\n",
              "      <td>13</td>\n",
              "      <td>3</td>\n",
              "      <td>1</td>\n",
              "    </tr>\n",
              "    <tr>\n",
              "      <th>4</th>\n",
              "      <td>2011-01-01 04:00:00</td>\n",
              "      <td>1</td>\n",
              "      <td>0</td>\n",
              "      <td>0</td>\n",
              "      <td>1</td>\n",
              "      <td>9.84</td>\n",
              "      <td>14.395</td>\n",
              "      <td>75</td>\n",
              "      <td>0.0</td>\n",
              "      <td>0</td>\n",
              "      <td>1</td>\n",
              "      <td>1</td>\n",
              "      <td>4</td>\n",
              "      <td>1</td>\n",
              "    </tr>\n",
              "  </tbody>\n",
              "</table>\n",
              "</div>\n",
              "      <button class=\"colab-df-convert\" onclick=\"convertToInteractive('df-5f653566-6103-417f-b5ab-0ab9e7475b31')\"\n",
              "              title=\"Convert this dataframe to an interactive table.\"\n",
              "              style=\"display:none;\">\n",
              "        \n",
              "  <svg xmlns=\"http://www.w3.org/2000/svg\" height=\"24px\"viewBox=\"0 0 24 24\"\n",
              "       width=\"24px\">\n",
              "    <path d=\"M0 0h24v24H0V0z\" fill=\"none\"/>\n",
              "    <path d=\"M18.56 5.44l.94 2.06.94-2.06 2.06-.94-2.06-.94-.94-2.06-.94 2.06-2.06.94zm-11 1L8.5 8.5l.94-2.06 2.06-.94-2.06-.94L8.5 2.5l-.94 2.06-2.06.94zm10 10l.94 2.06.94-2.06 2.06-.94-2.06-.94-.94-2.06-.94 2.06-2.06.94z\"/><path d=\"M17.41 7.96l-1.37-1.37c-.4-.4-.92-.59-1.43-.59-.52 0-1.04.2-1.43.59L10.3 9.45l-7.72 7.72c-.78.78-.78 2.05 0 2.83L4 21.41c.39.39.9.59 1.41.59.51 0 1.02-.2 1.41-.59l7.78-7.78 2.81-2.81c.8-.78.8-2.07 0-2.86zM5.41 20L4 18.59l7.72-7.72 1.47 1.35L5.41 20z\"/>\n",
              "  </svg>\n",
              "      </button>\n",
              "      \n",
              "  <style>\n",
              "    .colab-df-container {\n",
              "      display:flex;\n",
              "      flex-wrap:wrap;\n",
              "      gap: 12px;\n",
              "    }\n",
              "\n",
              "    .colab-df-convert {\n",
              "      background-color: #E8F0FE;\n",
              "      border: none;\n",
              "      border-radius: 50%;\n",
              "      cursor: pointer;\n",
              "      display: none;\n",
              "      fill: #1967D2;\n",
              "      height: 32px;\n",
              "      padding: 0 0 0 0;\n",
              "      width: 32px;\n",
              "    }\n",
              "\n",
              "    .colab-df-convert:hover {\n",
              "      background-color: #E2EBFA;\n",
              "      box-shadow: 0px 1px 2px rgba(60, 64, 67, 0.3), 0px 1px 3px 1px rgba(60, 64, 67, 0.15);\n",
              "      fill: #174EA6;\n",
              "    }\n",
              "\n",
              "    [theme=dark] .colab-df-convert {\n",
              "      background-color: #3B4455;\n",
              "      fill: #D2E3FC;\n",
              "    }\n",
              "\n",
              "    [theme=dark] .colab-df-convert:hover {\n",
              "      background-color: #434B5C;\n",
              "      box-shadow: 0px 1px 3px 1px rgba(0, 0, 0, 0.15);\n",
              "      filter: drop-shadow(0px 1px 2px rgba(0, 0, 0, 0.3));\n",
              "      fill: #FFFFFF;\n",
              "    }\n",
              "  </style>\n",
              "\n",
              "      <script>\n",
              "        const buttonEl =\n",
              "          document.querySelector('#df-5f653566-6103-417f-b5ab-0ab9e7475b31 button.colab-df-convert');\n",
              "        buttonEl.style.display =\n",
              "          google.colab.kernel.accessAllowed ? 'block' : 'none';\n",
              "\n",
              "        async function convertToInteractive(key) {\n",
              "          const element = document.querySelector('#df-5f653566-6103-417f-b5ab-0ab9e7475b31');\n",
              "          const dataTable =\n",
              "            await google.colab.kernel.invokeFunction('convertToInteractive',\n",
              "                                                     [key], {});\n",
              "          if (!dataTable) return;\n",
              "\n",
              "          const docLinkHtml = 'Like what you see? Visit the ' +\n",
              "            '<a target=\"_blank\" href=https://colab.research.google.com/notebooks/data_table.ipynb>data table notebook</a>'\n",
              "            + ' to learn more about interactive tables.';\n",
              "          element.innerHTML = '';\n",
              "          dataTable['output_type'] = 'display_data';\n",
              "          await google.colab.output.renderOutput(dataTable, element);\n",
              "          const docLink = document.createElement('div');\n",
              "          docLink.innerHTML = docLinkHtml;\n",
              "          element.appendChild(docLink);\n",
              "        }\n",
              "      </script>\n",
              "    </div>\n",
              "  </div>\n",
              "  "
            ]
          },
          "metadata": {},
          "execution_count": 31
        }
      ]
    },
    {
      "cell_type": "code",
      "source": [
        "train_df.shape"
      ],
      "metadata": {
        "colab": {
          "base_uri": "https://localhost:8080/"
        },
        "id": "J3FAvrEVJkpX",
        "outputId": "a00c2163-1e15-4b18-d0c6-5dcbf4091b8f"
      },
      "execution_count": null,
      "outputs": [
        {
          "output_type": "execute_result",
          "data": {
            "text/plain": [
              "(9174, 12)"
            ]
          },
          "metadata": {},
          "execution_count": 11
        }
      ]
    },
    {
      "cell_type": "code",
      "source": [
        "# now let's take a look at the amerage amount of bike use for each hour of the day\n",
        "# as a \"sanity check\" to make sure the data makes sense before going further\n",
        "hours = np.unique(train_df['hour'])\n",
        "print(\"hours:\",hours)\n",
        "\n",
        "hours_mean = {}\n",
        "for h in hours:\n",
        "    temp_df = train_df.loc[train_df['hour'] == h]\n",
        "    hours_mean[h] = temp_df['count'].mean()\n",
        "\n",
        "# plot the results. Maybe should see peaks from bike commuting or evening use\n",
        "plt.rcParams['figure.figsize'] = (14, 8)\n",
        "plt.bar(hours,[hours_mean[h] for h in hours])\n",
        "plt.xlabel(\"hour\")\n",
        "plt.ylabel(\"average number of bikes used\")\n",
        "plt.tick_params(axis='x', labelsize=15)\n",
        "plt.tick_params(axis='y', labelsize=15)\n",
        "matplotlib.rc('font', size=15)\n",
        "plt.title(\"Measured bike use over 2 years\")\n"
      ],
      "metadata": {
        "colab": {
          "base_uri": "https://localhost:8080/",
          "height": 562
        },
        "id": "QzYoQaAZ2MpR",
        "outputId": "f7af5f2a-414c-4ffd-9337-c9abfa2fd0fa"
      },
      "execution_count": null,
      "outputs": [
        {
          "output_type": "stream",
          "name": "stdout",
          "text": [
            "hours: [ 0  1  2  3  4  5  6  7  8  9 10 11 12 13 14 15 16 17 18 19 20 21 22 23]\n"
          ]
        },
        {
          "output_type": "execute_result",
          "data": {
            "text/plain": [
              "Text(0.5, 1.0, 'Measured bike use over 2 years')"
            ]
          },
          "metadata": {},
          "execution_count": 33
        },
        {
          "output_type": "display_data",
          "data": {
            "text/plain": [
              "<Figure size 1008x576 with 1 Axes>"
            ],
            "image/png": "[encoded data removed]"
          },
          "metadata": {
            "needs_background": "light"
          }
        }
      ]
    },
    {
      "cell_type": "code",
      "source": [
        "months = np.unique(train_df['month'])\n",
        "print(\"months:\",months)\n",
        "\n",
        "months_mean = {}\n",
        "for h in months:\n",
        "    temp_df = train_df.loc[train_df['month'] == h]\n",
        "    months_mean[h] = temp_df['count'].mean()\n",
        "\n",
        "# plot the results. Maybe should see peaks from bike commuting or evening use\n",
        "plt.rcParams['figure.figsize'] = (14, 8)\n",
        "plt.bar(months,[months_mean[h] for h in months])\n",
        "plt.xlabel(\"Month\")\n",
        "plt.ylabel(\"Average number of bikes used\")\n",
        "plt.tick_params(axis='x', labelsize=15)\n",
        "plt.tick_params(axis='y', labelsize=15)\n",
        "plt.title(\"Bikes used for over 2 years\")"
      ],
      "metadata": {
        "colab": {
          "base_uri": "https://localhost:8080/",
          "height": 562
        },
        "id": "kR72If-02Wx9",
        "outputId": "bfce01ed-b405-4138-fb65-3eb0116a6eda"
      },
      "execution_count": null,
      "outputs": [
        {
          "output_type": "stream",
          "name": "stdout",
          "text": [
            "months: [ 1  2  3  4  5  6  7  8  9 10 11 12]\n"
          ]
        },
        {
          "output_type": "execute_result",
          "data": {
            "text/plain": [
              "Text(0.5, 1.0, 'Bikes used for over 2 years')"
            ]
          },
          "metadata": {},
          "execution_count": 35
        },
        {
          "output_type": "display_data",
          "data": {
            "text/plain": [
              "<Figure size 1008x576 with 1 Axes>"
            ],
            "image/png": "[encoded data removed]"
          },
          "metadata": {
            "needs_background": "light"
          }
        }
      ]
    },
    {
      "cell_type": "code",
      "source": [
        "import seaborn as sns\n",
        "plt.rcParams['figure.figsize'] = [16, 9]\n",
        "train_df[['registered', 'casual']][:50].plot(kind='bar', stacked=True)\n",
        "plt.title(\"Stacked Barchart showing contribution of casual and registered bike rentals\")\n",
        "plt.xlabel(\"Day\")\n",
        "plt.ylabel(\"Total count of casual and registered\")\n",
        "plt.xticks(rotation=60)\n",
        "plt.show()\n",
        "    \n"
      ],
      "metadata": {
        "id": "NiCkRsLB2aEw",
        "colab": {
          "base_uri": "https://localhost:8080/",
          "height": 573
        },
        "outputId": "c592e517-e9c9-495f-d8e0-1cbd2bbc1046"
      },
      "execution_count": null,
      "outputs": [
        {
          "output_type": "display_data",
          "data": {
            "text/plain": [
              "<Figure size 1152x648 with 1 Axes>"
            ],
            "image/png": "[encoded data removed]"
          },
          "metadata": {
            "needs_background": "light"
          }
        }
      ]
    },
    {
      "cell_type": "code",
      "source": [
        "import seaborn as sns\n",
        "plt.rcParams['figure.figsize'] = [14, 8]\n",
        "ax = sns.barplot('season', 'casual', data = train_df)\n",
        "plt.title(\"Count of casual customers in different seasons\")\n",
        "plt.xlabel(\"Season\")\n",
        "plt.ylabel(\"Casual customers\")\n",
        "plt.xticks(rotation=90)\n",
        "plt.show()"
      ],
      "metadata": {
        "colab": {
          "base_uri": "https://localhost:8080/",
          "height": 564
        },
        "id": "3oksWzgO2iN-",
        "outputId": "b0998e32-7110-4375-92dd-bd4040646a1d"
      },
      "execution_count": null,
      "outputs": [
        {
          "output_type": "stream",
          "name": "stderr",
          "text": [
            "/usr/local/lib/python3.7/dist-packages/seaborn/_decorators.py:43: FutureWarning: Pass the following variables as keyword args: x, y. From version 0.12, the only valid positional argument will be `data`, and passing other arguments without an explicit keyword will result in an error or misinterpretation.\n",
            "  FutureWarning\n"
          ]
        },
        {
          "output_type": "display_data",
          "data": {
            "text/plain": [
              "<Figure size 1008x576 with 1 Axes>"
            ],
            "image/png": "[encoded data removed]"
          },
          "metadata": {
            "needs_background": "light"
          }
        }
      ]
    },
    {
      "cell_type": "code",
      "source": [
        ""
      ],
      "metadata": {
        "id": "PHs3jFzsC2ph"
      },
      "execution_count": null,
      "outputs": []
    },
    {
      "cell_type": "code",
      "source": [
        "ax = sns.countplot(train_df['workingday'])\n",
        "\n",
        "plt.xlabel('Weekday')\n",
        "plt.ylabel('Casual')\n",
        "plt.show()\n"
      ],
      "metadata": {
        "id": "0T0YVey-2lx1",
        "colab": {
          "base_uri": "https://localhost:8080/",
          "height": 552
        },
        "outputId": "19d29995-883d-4c55-fe83-a59709ae4c65"
      },
      "execution_count": null,
      "outputs": [
        {
          "output_type": "stream",
          "name": "stderr",
          "text": [
            "/usr/local/lib/python3.7/dist-packages/seaborn/_decorators.py:43: FutureWarning: Pass the following variable as a keyword arg: x. From version 0.12, the only valid positional argument will be `data`, and passing other arguments without an explicit keyword will result in an error or misinterpretation.\n",
            "  FutureWarning\n"
          ]
        },
        {
          "output_type": "display_data",
          "data": {
            "text/plain": [
              "<Figure size 1008x576 with 1 Axes>"
            ],
            "image/png": "[encoded data removed]"
          },
          "metadata": {
            "needs_background": "light"
          }
        }
      ]
    },
    {
      "cell_type": "code",
      "source": [
        "# we convert the below columns into categorical\n",
        "for i in ['season', 'weather', 'holiday', 'workingday']:\n",
        "    train_df[i] = train_df[i].astype('object')\n",
        "\n",
        "# Dummification of the below columns in the dataset\n",
        "one_hot_df = pd.get_dummies(train_df[['season', 'holiday', 'workingday', 'weather']])\n",
        "# we drop unnecessary columns\n",
        "A = train_df.drop(['datetime','casual','registered', 'season', 'holiday', 'workingday', 'weather', 'count'], axis=1)\n",
        "# we append the dummies data to the original data\n",
        "A = A.join(one_hot_df)\n",
        "# target column\n",
        "B = train_df['count']"
      ],
      "metadata": {
        "id": "PlaQdkWjaO1H"
      },
      "execution_count": null,
      "outputs": []
    },
    {
      "cell_type": "code",
      "source": [
        "A = train_df.drop(['datetime','casual','registered', 'season', 'holiday', 'workingday', 'weather', 'count'], axis=1)\n",
        "A = A.join(one_hot_df)\n",
        "B = train_df['casual']"
      ],
      "metadata": {
        "id": "a4j3FYUQbB9g"
      },
      "execution_count": null,
      "outputs": []
    },
    {
      "cell_type": "code",
      "source": [
        "#This is to look for best fit\n",
        "from sklearn.model_selection import GridSearchCV\n",
        "from sklearn.ensemble import RandomForestRegressor\n",
        "\n",
        "param_grid = {\n",
        "    'bootstrap': [True],\n",
        "    'max_depth': [80, 90, 100, 110],\n",
        "    'max_features': [2, 3],\n",
        "    'min_samples_leaf': [3, 4, 5],\n",
        "    'min_samples_split': [8, 10, 12],\n",
        "    'n_estimators': [100, 200, 500, 1000]\n",
        "}\n",
        "# Create a based model\n",
        "rf = RandomForestRegressor()\n",
        "# Instantiate the grid search model\n",
        "grid_search = GridSearchCV(estimator = rf, param_grid = param_grid, \n",
        "                          cv = 2, n_jobs = -1, verbose = 2)\n",
        "grid_search.fit(A, B)\n",
        "grid_search.best_params_"
      ],
      "metadata": {
        "colab": {
          "base_uri": "https://localhost:8080/"
        },
        "id": "ocS5HwJecS4v",
        "outputId": "2f256cb5-c926-4f6a-af8c-0e2c50633a1c"
      },
      "execution_count": null,
      "outputs": [
        {
          "output_type": "stream",
          "name": "stdout",
          "text": [
            "Fitting 2 folds for each of 288 candidates, totalling 576 fits\n"
          ]
        },
        {
          "output_type": "execute_result",
          "data": {
            "text/plain": [
              "{'bootstrap': True,\n",
              " 'max_depth': 90,\n",
              " 'max_features': 3,\n",
              " 'min_samples_leaf': 5,\n",
              " 'min_samples_split': 10,\n",
              " 'n_estimators': 100}"
            ]
          },
          "metadata": {},
          "execution_count": 38
        }
      ]
    },
    {
      "cell_type": "code",
      "source": [
        "from sklearn.model_selection import KFold\n",
        "from sklearn.linear_model import LinearRegression\n",
        "from sklearn.metrics import mean_squared_error, r2_score\n",
        "kfold = KFold(n_splits=5, shuffle=True, random_state=None)\n",
        "for train, test in kfold.split(train_df):\n",
        "    print('train: %s, test: %s' % (train, test))"
      ],
      "metadata": {
        "colab": {
          "base_uri": "https://localhost:8080/"
        },
        "id": "ePbNvtkDd3lJ",
        "outputId": "9589e2e7-b69f-4227-f376-6fb5c652d174"
      },
      "execution_count": null,
      "outputs": [
        {
          "output_type": "stream",
          "name": "stdout",
          "text": [
            "train: [   0    1    2 ... 9171 9172 9173], test: [   9   15   18 ... 9154 9166 9169]\n",
            "train: [   0    2    3 ... 9171 9172 9173], test: [   1    4    5 ... 9164 9165 9168]\n",
            "train: [   0    1    3 ... 9170 9171 9173], test: [   2    6    8 ... 9158 9162 9172]\n",
            "train: [   0    1    2 ... 9171 9172 9173], test: [   3   14   16 ... 9161 9167 9170]\n",
            "train: [   1    2    3 ... 9169 9170 9172], test: [   0   12   24 ... 9160 9171 9173]\n"
          ]
        }
      ]
    },
    {
      "cell_type": "code",
      "source": [
        "from sklearn.ensemble import RandomForestRegressor\n",
        "from sklearn.tree import DecisionTreeRegressor\n",
        "from sklearn.linear_model import LinearRegression\n",
        "from sklearn.neighbors import KNeighborsRegressor\n",
        "from sklearn.svm import LinearSVR\n",
        "\n",
        "\n",
        "model = RandomForestRegressor(n_estimators = 500,max_depth=100)\n",
        "print(\"Selected Columns:\",cols)\n",
        "print(model)"
      ],
      "metadata": {
        "colab": {
          "base_uri": "https://localhost:8080/"
        },
        "id": "RJH8z9JZf6e4",
        "outputId": "be80baad-741d-457e-8f57-27bef3f7d5d5"
      },
      "execution_count": null,
      "outputs": [
        {
          "output_type": "stream",
          "name": "stdout",
          "text": [
            "Selected Columns: ['hour', 'month', 'season']\n",
            "RandomForestRegressor(max_depth=100, n_estimators=500)\n"
          ]
        }
      ]
    },
    {
      "cell_type": "code",
      "source": [
        "from sklearn.ensemble import RandomForestRegressor\n",
        "# using Random Forest Regressor to find the count values\n",
        "forest = RandomForestRegressor(random_state = 211)\n",
        "forest.fit(X.iloc[train], y.iloc[train])\n",
        "forest_ypred = forest.predict(X.iloc[test])\n",
        "mse = mean_squared_error(y.iloc[test], forest_ypred)\n",
        "print(\"RMSE:\", np.sqrt(mse))\n",
        "r_squared = r2_score(y.iloc[test], forest_ypred)\n",
        "print(\"R2 Score: \", r_squared)\n",
        "forest_test_pred = forest.predict(sample_data)\n",
        "forest_test_pred"
      ],
      "metadata": {
        "id": "nR9qmoxWivMn"
      },
      "execution_count": null,
      "outputs": []
    },
    {
      "cell_type": "code",
      "source": [
        "# fit the selected model TO YOUR FULL TRAINING SET\n",
        "model.fit( bike_df[cols], bike_df['count'])\n",
        "predict_count = model.predict(test_df[cols])\n",
        "model.fit( bike_df[cols], bike_df['casual'])\n",
        "predict_casual = model.predict(test_df[cols])\n",
        "model.fit( bike_df[cols], bike_df['registered'])\n",
        "predict_registered = model.predict(test_df[cols])\n",
        "\n",
        "# apply to the test data FOR WHICH YOU DON'T HAVE THE ANSWERS\n",
        "# (not the \"test set\" you used for model selection and tuning) \n",
        "# add the prediction column (in case you want to inspect it later)\n",
        "test_df['count'] = predict_count\n",
        "test_df['casual'] = predict_casual\n",
        "test_df['registered'] = predict_registered\n",
        "test_df['sum of casual and registered'] = predict_casual+predict_registered\n",
        "\n",
        "sample_df = pd.read_csv('https://raw.githubusercontent.com/unt-iialab/info5502-spring2022/main/datasets/lab_assignment_06/sample_prediction.csv', sep=\",\")\n",
        "\n",
        "#comparing with the sample data \n",
        "print(\"count of sum of casual and registered data RMS error of sample data:\",np.sqrt(mean_squared_error(sample_df['count'],predict_casual+predict_registered)))\n",
        "print(\"count RMS error of sample data:\",np.sqrt(mean_squared_error(sample_df['count'],predict_count)))\n",
        "\n",
        "# save the predicted count as a csv with a header column and datetime row\n",
        "test_df = test_df[['datetime','count','casual','registered','sum of casual and registered']].to_csv('my_prediction.csv',    index=False, header=True)\n",
        "print(\"Prediction complete. Saved as my_prediction.csv\")"
      ],
      "metadata": {
        "id": "uYd0sMtX29tb"
      },
      "execution_count": 56,
      "outputs": []
    },
    {
      "cell_type": "markdown",
      "source": [
        "count of sum of casual and registered data RMS error of sample data: 97.06540057946759\n",
        "count RMS error of sample data: 96.14127425047012\n",
        "Prediction complete. Saved as my_prediction.csv"
      ],
      "metadata": {
        "id": "O8LSCUJ73sv6"
      }
    }
  ]
}