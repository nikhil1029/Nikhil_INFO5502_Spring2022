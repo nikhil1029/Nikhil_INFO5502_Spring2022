{
  "nbformat": 4,
  "nbformat_minor": 0,
  "metadata": {
    "colab": {
      "name": "Assignment_01.ipynb",
      "provenance": [],
      "toc_visible": true,
      "authorship_tag": "ABX9TyNoFnojs/MIG9WTR/mKfmuq",
      "include_colab_link": true
    },
    "kernelspec": {
      "name": "python3",
      "display_name": "Python 3"
    },
    "language_info": {
      "name": "python"
    }
  },
  "cells": [
    {
      "cell_type": "markdown",
      "metadata": {
        "id": "view-in-github",
        "colab_type": "text"
      },
      "source": [
        "<a href=\"https://colab.research.google.com/github/nikhil1029/Nikhil_INFO5502_Spring2022/blob/main/Assignment_01.ipynb\" target=\"_parent\"><img src=\"https://colab.research.google.com/assets/colab-badge.svg\" alt=\"Open In Colab\"/></a>"
      ]
    },
    {
      "cell_type": "code",
      "execution_count": 3,
      "metadata": {
        "colab": {
          "base_uri": "https://localhost:8080/"
        },
        "id": "H8LKBs0_8T3_",
        "outputId": "5b0a21c3-9efa-4ec4-f83a-46b794f0dde9"
      },
      "outputs": [
        {
          "output_type": "stream",
          "name": "stdout",
          "text": [
            "nikhilkumar reddy\n",
            "{'n': 1, 'i': 2, 'k': 2, 'h': 1, 'l': 1, 'u': 1, 'm': 1, 'a': 1, 'r': 2, ' ': 1, 'e': 1, 'd': 2, 'y': 1}\n"
          ]
        }
      ],
      "source": [
        "#To count the number of characters in a string\n",
        "\n",
        "import collections\n",
        "string=collections.Counter(input(\"\"))\n",
        "d={}\n",
        "for key,value in string.items():\n",
        "    d[key]=value\n",
        "print(d)"
      ]
    },
    {
      "cell_type": "code",
      "source": [
        "#To sum all the items in the list\n",
        "\n",
        "l=0\n",
        "Sum=0\n",
        "n=int(input(\"Enter the elements in the list:\") )#number of elements in list\n",
        "for i in range(n):\n",
        "    l=int(input()) #input list\n",
        "    Sum=Sum+l  #sum of the elements in the list\n",
        "print(Sum)"
      ],
      "metadata": {
        "colab": {
          "base_uri": "https://localhost:8080/"
        },
        "id": "nmSs-EpBB3To",
        "outputId": "caaf5f91-e744-40ee-cf51-8d6000fb093a"
      },
      "execution_count": 32,
      "outputs": [
        {
          "output_type": "stream",
          "name": "stdout",
          "text": [
            "Enter the elements in the list:4\n",
            "4\n",
            "6\n",
            "7\n",
            "8\n",
            "25\n"
          ]
        }
      ]
    },
    {
      "cell_type": "code",
      "source": [
        "#changing of a character to '$' when repeated in a string of the first char\n",
        "string=input(\"Enter the string value:\")\n",
        "for i in range(len(string)):\n",
        "    for j in range(i+1,len(string)):\n",
        "        if(string[i]==string[j]):\n",
        "            string=string[:j]+'$'+string[j+1:]\n",
        "print(string)\n"
      ],
      "metadata": {
        "colab": {
          "base_uri": "https://localhost:8080/"
        },
        "id": "xgM81XP9DHHW",
        "outputId": "544e141f-8c34-4d16-cb70-22214a9a0059"
      },
      "execution_count": 28,
      "outputs": [
        {
          "output_type": "stream",
          "name": "stdout",
          "text": [
            "Enter the string value:nikhil\n",
            "nikh$l\n"
          ]
        }
      ]
    },
    {
      "cell_type": "code",
      "source": [
        "#Calculating two parameters \n",
        "a=int(input(\"Enter value of a:\"))\n",
        "b=int(input(\"Enter value of b:\"))\n",
        "S=3.14*pow(1+a/b,3)\n",
        "print (S)\n"
      ],
      "metadata": {
        "colab": {
          "base_uri": "https://localhost:8080/"
        },
        "id": "ft8ZOpSpELEi",
        "outputId": "51c46465-4cf9-409e-aec8-303da9227f85"
      },
      "execution_count": 27,
      "outputs": [
        {
          "output_type": "stream",
          "name": "stdout",
          "text": [
            "Enter value of a:1\n",
            "Enter value of b:2\n",
            "10.5975\n"
          ]
        }
      ]
    },
    {
      "cell_type": "code",
      "source": [
        "#concatenation of dictionaries\n",
        "d1={1:10,2:20}\n",
        "d2={3:30,4:40}\n",
        "d3={5:50,6:60}\n",
        "d4={}\n",
        "d4.update(d1)\n",
        "d4.update(d2)\n",
        "d4.update(d3)\n",
        "print(d4)\n",
        "\n"
      ],
      "metadata": {
        "colab": {
          "base_uri": "https://localhost:8080/"
        },
        "id": "0v2VJqk0og8g",
        "outputId": "4eea6bd0-8dd9-424c-cb17-66cdcc8456a3"
      },
      "execution_count": 16,
      "outputs": [
        {
          "output_type": "stream",
          "name": "stdout",
          "text": [
            "{1: 10, 2: 20, 3: 30, 4: 40, 5: 50, 6: 60}\n"
          ]
        }
      ]
    },
    {
      "cell_type": "code",
      "source": [
        "#Checking whether elements exist in tuple or not\n",
        "tuple1=input('Enter elements in tuples:')\n",
        "find=input()\n",
        "if find in tuple1:\n",
        "    print(find, \" exists in tuple\")\n",
        "else:\n",
        "    print(find, \"does not exists in tuple\")\n"
      ],
      "metadata": {
        "colab": {
          "base_uri": "https://localhost:8080/"
        },
        "id": "_-EqNOncEJof",
        "outputId": "482301e8-5857-450e-e30c-3aaac495b027"
      },
      "execution_count": 25,
      "outputs": [
        {
          "output_type": "stream",
          "name": "stdout",
          "text": [
            "Enter elements in tuples:12345\n",
            "4\n",
            "4  exists in tuple\n"
          ]
        }
      ]
    },
    {
      "cell_type": "code",
      "source": [
        "#maximum and minimum number in a set\n",
        "S={9,0,4,3,2,5}\n",
        "print(\"minimum value in a set is\", min(S))\n",
        "print(\"maximium value in a set is\", max(S))\n"
      ],
      "metadata": {
        "colab": {
          "base_uri": "https://localhost:8080/"
        },
        "id": "9oAeq-cjiJPO",
        "outputId": "4f00b05d-88ab-4ef1-f0bb-b688a77098d6"
      },
      "execution_count": 17,
      "outputs": [
        {
          "output_type": "stream",
          "name": "stdout",
          "text": [
            "minimum value in a set is 0\n",
            "maximium value in a set is 9\n"
          ]
        }
      ]
    },
    {
      "cell_type": "code",
      "source": [
        "# Duplicate elements\n",
        "l=[1,2,3,4,5]\n",
        "r=[]\n",
        "for i in range(0,len(l)):\n",
        "    for j in range(i+1,len(l)):\n",
        "        if(l[i]==l[j]):\n",
        "            if l[j] not in r:\n",
        "                r.append(l[j])\n",
        "if(r!=[]):\n",
        "    print(r)\n",
        "else:\n",
        "    print(\"-1\") #if no duplicate elements then print -1"
      ],
      "metadata": {
        "colab": {
          "base_uri": "https://localhost:8080/"
        },
        "id": "fGizqf9YEm81",
        "outputId": "e1989480-754a-4cc7-fa04-370e3af5701f"
      },
      "execution_count": 12,
      "outputs": [
        {
          "output_type": "stream",
          "name": "stdout",
          "text": [
            "-1\n"
          ]
        }
      ]
    },
    {
      "cell_type": "code",
      "source": [
        "#to select all sundays of a specific year\n",
        "from datetime import date\n",
        "import calendar\n",
        "year=int(input()) # input for year \n",
        "c=calendar.TextCalendar(calendar.SUNDAY)\n",
        "for i in range(1,13):\n",
        "    for j in c.itermonthdays(year,i):\n",
        "        if j!=0:\n",
        "            day=date(year,i,j)\n",
        "            if day.weekday()==6:\n",
        "                print(\"%d-%d-%d\" % (j,i,year ))\n",
        "    print(\"---------------\")"
      ],
      "metadata": {
        "colab": {
          "base_uri": "https://localhost:8080/"
        },
        "id": "Gd8jkzaygiBK",
        "outputId": "666bf4ef-ad5f-4951-b347-7f5c3861a60d"
      },
      "execution_count": 16,
      "outputs": [
        {
          "output_type": "stream",
          "name": "stdout",
          "text": [
            "2020\n",
            "5-1-2020\n",
            "12-1-2020\n",
            "19-1-2020\n",
            "26-1-2020\n",
            "---------------\n",
            "2-2-2020\n",
            "9-2-2020\n",
            "16-2-2020\n",
            "23-2-2020\n",
            "---------------\n",
            "1-3-2020\n",
            "8-3-2020\n",
            "15-3-2020\n",
            "22-3-2020\n",
            "29-3-2020\n",
            "---------------\n",
            "5-4-2020\n",
            "12-4-2020\n",
            "19-4-2020\n",
            "26-4-2020\n",
            "---------------\n",
            "3-5-2020\n",
            "10-5-2020\n",
            "17-5-2020\n",
            "24-5-2020\n",
            "31-5-2020\n",
            "---------------\n",
            "7-6-2020\n",
            "14-6-2020\n",
            "21-6-2020\n",
            "28-6-2020\n",
            "---------------\n",
            "5-7-2020\n",
            "12-7-2020\n",
            "19-7-2020\n",
            "26-7-2020\n",
            "---------------\n",
            "2-8-2020\n",
            "9-8-2020\n",
            "16-8-2020\n",
            "23-8-2020\n",
            "30-8-2020\n",
            "---------------\n",
            "6-9-2020\n",
            "13-9-2020\n",
            "20-9-2020\n",
            "27-9-2020\n",
            "---------------\n",
            "4-10-2020\n",
            "11-10-2020\n",
            "18-10-2020\n",
            "25-10-2020\n",
            "---------------\n",
            "1-11-2020\n",
            "8-11-2020\n",
            "15-11-2020\n",
            "22-11-2020\n",
            "29-11-2020\n",
            "---------------\n",
            "6-12-2020\n",
            "13-12-2020\n",
            "20-12-2020\n",
            "27-12-2020\n",
            "---------------\n"
          ]
        }
      ]
    }
  ]
}