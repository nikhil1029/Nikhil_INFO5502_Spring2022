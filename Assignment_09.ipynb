{
  "cells": [
    {
      "cell_type": "markdown",
      "metadata": {
        "id": "view-in-github",
        "colab_type": "text"
      },
      "source": [
        "<a href=\"https://colab.research.google.com/github/nikhil1029/Nikhil_INFO5502_Spring2022/blob/main/Assignment_09.ipynb\" target=\"_parent\"><img src=\"https://colab.research.google.com/assets/colab-badge.svg\" alt=\"Open In Colab\"/></a>"
      ]
    },
    {
      "cell_type": "markdown",
      "metadata": {
        "id": "cdoehSUFTw9I"
      },
      "source": [
        "## The ninth Lab-assignment (04/14/2022, 50 points in total)"
      ]
    },
    {
      "cell_type": "markdown",
      "metadata": {
        "id": "1OVIEI2eTw9L"
      },
      "source": [
        "The purpose of this assignment is to practice different Hypothesis Testing."
      ]
    },
    {
      "cell_type": "markdown",
      "metadata": {
        "id": "65Fl_SaoTw9M"
      },
      "source": [
        "### Question 1 (15 points) \n",
        "\n",
        "During the 1980s, the general consensus is that about 5% of the nation’s children had autism. Some claimed that increases certain chemicals in the environment has led to an increase in autism. \n",
        "\n",
        "(1) Write an appropriate hypothesis test for this situation (5 points).  \n",
        "\n",
        "(2) Give an appropriate test for this hypothesis, stating what are the necessary conditions for performing the test (5 points). \n",
        "\n",
        "(3) A recent study examined 384 children and found that 46 showed signs of autism. Perform a test of the hypothesis and state the p-value (5 points). "
      ]
    },
    {
      "cell_type": "code",
      "source": [
        "# You answer here\n",
        "H0: 5% of Nations Children had autism.\n",
        "HA: 5% of Nations Children doesnt have autism.\n",
        "\n",
        "0.05 is the result for appropriate hypothesis test.\n"
      ],
      "metadata": {
        "id": "lvDUYBfvZihe"
      },
      "execution_count": null,
      "outputs": []
    },
    {
      "cell_type": "code",
      "source": [
        "pip install statsmodels"
      ],
      "metadata": {
        "colab": {
          "base_uri": "https://localhost:8080/"
        },
        "id": "4J_z4zqFZUhf",
        "outputId": "b56637d8-04a5-4249-a032-b7500eb0d4b6"
      },
      "execution_count": 8,
      "outputs": [
        {
          "output_type": "stream",
          "name": "stdout",
          "text": [
            "Requirement already satisfied: statsmodels in /usr/local/lib/python3.7/dist-packages (0.10.2)\n",
            "Requirement already satisfied: scipy>=0.18 in /usr/local/lib/python3.7/dist-packages (from statsmodels) (1.4.1)\n",
            "Requirement already satisfied: patsy>=0.4.0 in /usr/local/lib/python3.7/dist-packages (from statsmodels) (0.5.2)\n",
            "Requirement already satisfied: numpy>=1.11 in /usr/local/lib/python3.7/dist-packages (from statsmodels) (1.21.6)\n",
            "Requirement already satisfied: pandas>=0.19 in /usr/local/lib/python3.7/dist-packages (from statsmodels) (1.3.5)\n",
            "Requirement already satisfied: python-dateutil>=2.7.3 in /usr/local/lib/python3.7/dist-packages (from pandas>=0.19->statsmodels) (2.8.2)\n",
            "Requirement already satisfied: pytz>=2017.3 in /usr/local/lib/python3.7/dist-packages (from pandas>=0.19->statsmodels) (2022.1)\n",
            "Requirement already satisfied: six in /usr/local/lib/python3.7/dist-packages (from patsy>=0.4.0->statsmodels) (1.15.0)\n"
          ]
        }
      ]
    },
    {
      "cell_type": "code",
      "source": [
        "# your code here\n",
        "from statsmodels.stats.proportion import proportions_ztest\n",
        "p0=0.05\n",
        "number=384\n",
        "z=46\n",
        "\n",
        "proportions_ztest(count=5, nobs=n, value=0.46)"
      ],
      "metadata": {
        "colab": {
          "base_uri": "https://localhost:8080/"
        },
        "id": "-J6zwuJkZQ1L",
        "outputId": "6d55512c-eb19-4716-bee1-65a5e7481242"
      },
      "execution_count": 9,
      "outputs": [
        {
          "output_type": "execute_result",
          "data": {
            "text/plain": [
              "(-77.2644132497523, 0.0)"
            ]
          },
          "metadata": {},
          "execution_count": 9
        }
      ]
    },
    {
      "cell_type": "markdown",
      "metadata": {
        "id": "b0TTxGuYTw9O"
      },
      "source": [
        "### Question 2 (15 points) \n",
        "\n",
        "National data in the 1960s showed that about 44% of the adult population had never smoked. \n",
        "\n",
        "(1) State a null and alternative hypothesis to test that the fraction of the 1995 population of adults that had never smoked had increased (5 points).  \n",
        "\n",
        "(2) A national random sample of 891 adults were interviewed and 463 stated that they had never smoked. Perform a z-test of the hypothesis and give an approriate p-value (5 points). \n",
        "\n",
        "(3) Create a 98% confidence interval for the proportion of adults who had never been smokers (5 points). "
      ]
    },
    {
      "cell_type": "code",
      "execution_count": null,
      "metadata": {
        "id": "l9VQ9MRoTw9O"
      },
      "outputs": [],
      "source": [
        "# You answer here\n",
        "\n",
        "H0: The population of the adults who had never smoked had increased\n",
        "HA: The population of the adults who had never smoked had decreased"
      ]
    },
    {
      "cell_type": "code",
      "execution_count": 10,
      "metadata": {
        "id": "FH2BdKo4Tw9P",
        "colab": {
          "base_uri": "https://localhost:8080/"
        },
        "outputId": "5366064e-6a20-44e7-ee17-ba304811f42d"
      },
      "outputs": [
        {
          "output_type": "execute_result",
          "data": {
            "text/plain": [
              "(-631.062712892761, 0.0)"
            ]
          },
          "metadata": {},
          "execution_count": 10
        }
      ],
      "source": [
        "# your code here\n",
        "proportions_ztest(count=44, nobs=891, value=4.63)"
      ]
    },
    {
      "cell_type": "code",
      "source": [
        "import scipy.stats as spc\n",
        "\n",
        "spc.t.interval(alpha=0.95, df=890,\n",
        "              loc=44,\n",
        "              scale=4.63)"
      ],
      "metadata": {
        "colab": {
          "base_uri": "https://localhost:8080/"
        },
        "id": "3o3cxxopdn9_",
        "outputId": "45a5363c-483e-4721-8281-2e1087b16cc2"
      },
      "execution_count": 12,
      "outputs": [
        {
          "output_type": "execute_result",
          "data": {
            "text/plain": [
              "(34.91300909530795, 53.08699090469205)"
            ]
          },
          "metadata": {},
          "execution_count": 12
        }
      ]
    },
    {
      "cell_type": "markdown",
      "metadata": {
        "id": "kx-eL9QgTw9P"
      },
      "source": [
        "### Question 3 (15 points) \n",
        "In this problem,we will examine the sugar content of several national brands of cereals, here measured as a percentage of weight.\n",
        "\n",
        "\n",
        "\n",
        "(1) Give a summary of these two datasets (5 points). \n",
        "\n",
        "(2) Create side-by-side boxplots and interpret what you see (5 points). \n",
        "\n",
        "(3) Use python to create a 95% confidence interval for the difference in mean sugar content and explain your result (5 points). "
      ]
    },
    {
      "cell_type": "code",
      "execution_count": 24,
      "metadata": {
        "id": "WidKFT57Tw9P",
        "colab": {
          "base_uri": "https://localhost:8080/",
          "height": 1000
        },
        "outputId": "9b37592c-f817-4043-ca1d-b2b366326160"
      },
      "outputs": [
        {
          "output_type": "stream",
          "name": "stdout",
          "text": [
            "Child\n",
            "-------\n",
            "Summary\n",
            "-------\n",
            "Mean                : 46.8000\n",
            "Median              : 45.9000\n",
            "Mode                : [44.]\n",
            "Standard Deviation  : 6.2472\n",
            "Variance            : 39.0274\n",
            "\n",
            "Adults\n",
            "-------\n",
            "Summary\n",
            "-------\n",
            "Mean                : 10.1690\n",
            "Median              : 8.1000\n",
            "Mode                : [4.1]\n",
            "Standard Deviation  : 7.3457\n",
            "Variance            : 53.9587\n",
            "\n",
            "\n",
            " The summary of the statistics states that the average deviation is higher foe adults when compared to children which shows that mean is higher for this when compared to adults.\n",
            "Also the box plot for the children is small when compared to adults which shows that there is a big difference in sugar content in adults than children\n",
            "-----------------------\n",
            "95% Confidence Interval\n",
            "-----------------------\n",
            "Child:  (34.555734866088045, 59.04426513391196)\n",
            "Adult   :  (-4.228259682928753, 24.56619071741151)\n",
            "\n",
            "   95% confidence interval\n",
            "1) Sugar content for Children with mean is between 35.56 and 59.04\n",
            "2) Sugar content for adults with mean is between -4.23 and 24.57 \n"
          ]
        },
        {
          "output_type": "stream",
          "name": "stderr",
          "text": [
            "/usr/local/lib/python3.7/dist-packages/matplotlib/cbook/__init__.py:1376: VisibleDeprecationWarning: Creating an ndarray from ragged nested sequences (which is a list-or-tuple of lists-or-tuples-or ndarrays with different lengths or shapes) is deprecated. If you meant to do this, you must specify 'dtype=object' when creating the ndarray.\n",
            "  X = np.atleast_1d(X.T if isinstance(X, np.ndarray) else np.asarray(X))\n"
          ]
        },
        {
          "output_type": "display_data",
          "data": {
            "text/plain": [
              "<Figure size 1008x576 with 1 Axes>"
            ],
            "image/png": "[encoded data removed]"
          },
          "metadata": {
            "needs_background": "light"
          }
        }
      ],
      "source": [
        "# You answer here\n",
        "import numpy as np\n",
        "import matplotlib.pyplot as plt\n",
        "from scipy import stats\n",
        "\n",
        "child = np.array([40.3, 55.0, 45.7, 43.3, 50.3, 45.9, 53.5, 43.0, 44.2, 44.0, 33.6, 55.1, 48.8, \n",
        "                     50.4, 37.8, 60.3, 46.6, 47.4, 44.0])\n",
        "adult = np.array([20.0, 30.2, 2.2, 7.5, 4.4, 22.2, 16.6, 14.5, 21.4, 3.3, 10.0, 1.0, 4.4, 1.3, 8.1, \n",
        "                  6.6, 7.8, 10.6, 10.6, 16.2, 14.5, 4.1, 15.8, 4.1, 2.4, 3.5, 8.5, 4.7, 18.4])\n",
        "\n",
        "def summary_stats(data):\n",
        "    mean, median, mode, std, var = np.mean(data), np.median(data), stats.mode(data)[0], np.std(data), np.var(data)\n",
        "    print('-------')\n",
        "    print(\"Summary\")\n",
        "    print('-------')\n",
        "    print(f\"Mean                : {mean:.4f}\")\n",
        "    print(f\"Median              : {median:.4f}\")\n",
        "    print(f\"Mode                : {mode}\")\n",
        "    print(f\"Standard Deviation  : {std:.4f}\")\n",
        "    print(f\"Variance            : {var:.4f}\")\n",
        "\n",
        "print(\"Child\")\n",
        "summary_stats(child)\n",
        "\n",
        "print(\"\\nAdults\")\n",
        "summary_stats(adult)\n",
        "\n",
        "print('''\\n\\n The summary of the statistics states that the average deviation is higher foe adults when compared to children which shows that mean is higher for this when compared to adults.''')\n",
        "\n",
        "\n",
        "plt.figure(figsize = (14, 8))\n",
        "plt.boxplot([child, adult], positions = [1, 2], labels = ['Child', 'Adults'])\n",
        "plt.title('Side By Side Boxplot')\n",
        "plt.show()\n",
        "\n",
        "print('''Also the box plot for the children is small when compared to adults which shows that there is a big difference in sugar content in adults than children''')\n",
        "\n",
        "\n",
        "print(\"-----------------------\")\n",
        "print(\"95% Confidence Interval\")\n",
        "print(\"-----------------------\")\n",
        "child_95 = stats.norm.interval(0.95, np.mean(child), np.std(child))\n",
        "adult_95 = stats.norm.interval(0.95, np.mean(adult), np.std(adult))\n",
        "print(f\"Child:  {child_95}\")\n",
        "print(f\"Adult   :  {adult_95}\")\n",
        "\n",
        "print(\"\"\"\\n   95% confidence interval\n",
        "1) Sugar content for Children with mean is between 35.56 and 59.04\n",
        "2) Sugar content for adults with mean is between -4.23 and 24.57 \"\"\")\n",
        "\n",
        "\n"
      ]
    },
    {
      "cell_type": "markdown",
      "metadata": {
        "id": "hCaSCTTeTw9Q"
      },
      "source": [
        "### Question 4 (15 points, with 10 extra point included) A/B Testing"
      ]
    },
    {
      "cell_type": "markdown",
      "metadata": {
        "id": "7MpI865MTw9Q"
      },
      "source": [
        "Punishment for crime has many [philosophical justifications](http://plato.stanford.edu/entries/punishment/#ThePun).  An important one is that fear of punishment may *deter* people from committing crimes.\n",
        "\n",
        "In the United States, some jurisdictions execute people who are convicted of particularly serious crimes, such as murder.  This punishment is called the *death penalty* or *capital punishment*.  The death penalty is controversial, and deterrence has been one focal point of the debate.  There are other reasons to support or oppose the death penalty, but in this project we'll focus on deterrence.\n",
        "\n",
        "The key question about deterrence is:\n",
        "\n",
        "> Through our exploration, does instituting a death penalty for murder actually reduce the number of murders?\n",
        "\n",
        "You might have a strong intuition in one direction, but the evidence turns out to be surprisingly complex.  Different sides have variously argued that the death penalty has no deterrent effect and that each execution prevents 8 murders, all using statistical arguments!  We'll try to come to our own conclusion.\n",
        "\n",
        "#### The data\n",
        "\n",
        "The main data source for this lab comes from a [paper](http://cjlf.org/deathpenalty/DezRubShepDeterFinal.pdf) by three researchers, Dezhbakhsh, Rubin, and Shepherd.  The dataset contains rates of various violent crimes for every year 1960-2003 (44 years) in every US state.  The researchers compiled the data from the FBI's Uniform Crime Reports.\n",
        "\n",
        "Since crimes are committed by people, not states, we need to account for the number of people in each state when we're looking at state-level data.  Murder rates are calculated as follows:\n",
        "\n",
        "$$\\text{murder rate for state X in year Y} = \\frac{\\text{number of murders in state X in year Y}}{\\text{population in state X in year Y}}*100000$$\n",
        "\n",
        "(Murder is rare, so we multiply by 100,000 just to avoid dealing with tiny numbers.)\n",
        "\n",
        "Murder rates vary over time, and different states exhibit different trends. The rates in some states change dramatically from year to year, while others are quite stable. Let's plot a couple, just to see the variety.\n",
        "\n",
        "*Hint*: To create two lines, you will need create the table `ak_mn` with two columns of murder rates, in addition to a column of years. This table will have the following structure:\n",
        "\n",
        "| Year | Murder rate in Alaska | Murder rate in Minnesota |\n",
        "|------|-----------------------|--------------------------|\n",
        "| 1960 | 10.2                  | 1.2                      |\n",
        "| 1961 | 11.5                  | 1                        |\n",
        "| 1962 | 4.5                   | 0.9                      |\n",
        "\n",
        "<center>... (41 rows omitted)</center>\n",
        "\n",
        "Some US states have the death penalty, and others don't, and laws have changed over time. In addition to changes in murder rates, we will also consider whether the death penalty was in force in each state and each year.\n",
        "\n",
        "Using this information, we would like to investigate how the presence of the death penalty affects the murder rate of a state."
      ]
    },
    {
      "cell_type": "markdown",
      "metadata": {
        "id": "D1mmaXXhTw9R"
      },
      "source": [
        "(1) Use preban_rates_copy and postban_rates to create a table change_in_death_rates that contains each state's population, murder rate, and whether or not that state had the death penalty for both 1971 and 1973. (5 points)\n",
        "\n",
        "Create a table rate_means that contains the average murder rates for the states that had the death penalty and the states that didn't have the death penalty. It should have two columns: one indicating if the penalty was in place, and one that contains the average murder rate for each group.\n",
        "\n",
        "Hint: tbl_1.append(tbl_2) with create a new table that includes rows from both tbl_1 and tbl_2. Both tables must have the exactly the same columns, in the same order.\n",
        "\n",
        "(2) We want to figure out if there is a difference between the distribution of death rates in 1971 and 1973. Specifically, we want to test if murder rates were higher in 1973 than they were in 1971. You are required to conduct A/B Testing below (10 points):\n",
        "\n",
        "(2-1) Set observed_difference to the observed test statistic using the rate_means table. \n",
        "\n",
        "\n",
        "(2-2) Given a table like change_in_death_rates, a value column label, and a group column group_label, write a function that calculates the appropriate test statistic.\n",
        "\n",
        "(2-3) Write a function simulate_and_test_statistic to compute one trial of our A/B test. Your function should run a simulation and return a test statistic.\n",
        "\n",
        "(2-4) Simulate 5000 trials of our A/B test and store the test statistics in an array called differences.\n",
        "\n",
        "(2-5) Find the p-value for your test and assign it to empirical_P.\n",
        "\n",
        "(2-6) Using a 5% P-value cutoff, draw a conclusion about the null and alternative hypotheses. Describe your findings using simple, non-technical language. What does your analysis tell you about murder rates after the death penalty was suspended? What can you claim about causation from your statistical analysis?\n"
      ]
    },
    {
      "cell_type": "code",
      "execution_count": 27,
      "metadata": {
        "id": "acv31p4mTw9R",
        "colab": {
          "base_uri": "https://localhost:8080/",
          "height": 392
        },
        "outputId": "b3123e27-6f58-41a2-a906-c0110c253715"
      },
      "outputs": [
        {
          "output_type": "execute_result",
          "data": {
            "text/plain": [
              "State  | Population | Year | Murder Rate\n",
              "Alaska | 226,167    | 1960 | 10.2\n",
              "Alaska | 234,000    | 1961 | 11.5\n",
              "Alaska | 246,000    | 1962 | 4.5\n",
              "Alaska | 248,000    | 1963 | 6.5\n",
              "Alaska | 250,000    | 1964 | 10.4\n",
              "Alaska | 253,000    | 1965 | 6.3\n",
              "Alaska | 272,000    | 1966 | 12.9\n",
              "Alaska | 272,000    | 1967 | 9.6\n",
              "Alaska | 277,000    | 1968 | 10.5\n",
              "Alaska | 282,000    | 1969 | 10.6\n",
              "... (2190 rows omitted)"
            ],
            "text/html": [
              "<table border=\"1\" class=\"dataframe\">\n",
              "    <thead>\n",
              "        <tr>\n",
              "            <th>State</th> <th>Population</th> <th>Year</th> <th>Murder Rate</th>\n",
              "        </tr>\n",
              "    </thead>\n",
              "    <tbody>\n",
              "        <tr>\n",
              "            <td>Alaska</td> <td>226,167   </td> <td>1960</td> <td>10.2       </td>\n",
              "        </tr>\n",
              "        <tr>\n",
              "            <td>Alaska</td> <td>234,000   </td> <td>1961</td> <td>11.5       </td>\n",
              "        </tr>\n",
              "        <tr>\n",
              "            <td>Alaska</td> <td>246,000   </td> <td>1962</td> <td>4.5        </td>\n",
              "        </tr>\n",
              "        <tr>\n",
              "            <td>Alaska</td> <td>248,000   </td> <td>1963</td> <td>6.5        </td>\n",
              "        </tr>\n",
              "        <tr>\n",
              "            <td>Alaska</td> <td>250,000   </td> <td>1964</td> <td>10.4       </td>\n",
              "        </tr>\n",
              "        <tr>\n",
              "            <td>Alaska</td> <td>253,000   </td> <td>1965</td> <td>6.3        </td>\n",
              "        </tr>\n",
              "        <tr>\n",
              "            <td>Alaska</td> <td>272,000   </td> <td>1966</td> <td>12.9       </td>\n",
              "        </tr>\n",
              "        <tr>\n",
              "            <td>Alaska</td> <td>272,000   </td> <td>1967</td> <td>9.6        </td>\n",
              "        </tr>\n",
              "        <tr>\n",
              "            <td>Alaska</td> <td>277,000   </td> <td>1968</td> <td>10.5       </td>\n",
              "        </tr>\n",
              "        <tr>\n",
              "            <td>Alaska</td> <td>282,000   </td> <td>1969</td> <td>10.6       </td>\n",
              "        </tr>\n",
              "    </tbody>\n",
              "</table>\n",
              "<p>... (2190 rows omitted)</p>"
            ]
          },
          "metadata": {},
          "execution_count": 27
        }
      ],
      "source": [
        "# You answer here\n",
        "\n",
        "import numpy as np\n",
        "from datascience import *\n",
        "import matplotlib\n",
        "# %matplotlib inline\n",
        "import matplotlib.pyplot as plt\n",
        "order = make_array(5, 1, 3, 2, 4, 6)\n",
        "mr = Table.read_table('crime_rates.csv').select('State',  'Population', 'Year','Murder Rate')\n",
        "mr.set_format(\"Population\", NumberFormatter)"
      ]
    },
    {
      "cell_type": "code",
      "execution_count": 30,
      "metadata": {
        "id": "5rUrFAq4Tw9S",
        "colab": {
          "base_uri": "https://localhost:8080/",
          "height": 392
        },
        "outputId": "166d412b-37fa-4268-f7f6-9cb38f481d30"
      },
      "outputs": [
        {
          "output_type": "execute_result",
          "data": {
            "text/plain": [
              "Year | Murder rate in Alaska | Murder rate in Iowa\n",
              "1960 | 10.2                  | 0.6\n",
              "1961 | 11.5                  | 1.3\n",
              "1962 | 4.5                   | 1.1\n",
              "1963 | 6.5                   | 1.3\n",
              "1964 | 10.4                  | 1.3\n",
              "1965 | 6.3                   | 1.3\n",
              "1966 | 12.9                  | 1.6\n",
              "1967 | 9.6                   | 1.5\n",
              "1968 | 10.5                  | 1.7\n",
              "1969 | 10.6                  | 1.4\n",
              "... (34 rows omitted)"
            ],
            "text/html": [
              "<table border=\"1\" class=\"dataframe\">\n",
              "    <thead>\n",
              "        <tr>\n",
              "            <th>Year</th> <th>Murder rate in Alaska</th> <th>Murder rate in Iowa</th>\n",
              "        </tr>\n",
              "    </thead>\n",
              "    <tbody>\n",
              "        <tr>\n",
              "            <td>1960</td> <td>10.2                 </td> <td>0.6                </td>\n",
              "        </tr>\n",
              "        <tr>\n",
              "            <td>1961</td> <td>11.5                 </td> <td>1.3                </td>\n",
              "        </tr>\n",
              "        <tr>\n",
              "            <td>1962</td> <td>4.5                  </td> <td>1.1                </td>\n",
              "        </tr>\n",
              "        <tr>\n",
              "            <td>1963</td> <td>6.5                  </td> <td>1.3                </td>\n",
              "        </tr>\n",
              "        <tr>\n",
              "            <td>1964</td> <td>10.4                 </td> <td>1.3                </td>\n",
              "        </tr>\n",
              "        <tr>\n",
              "            <td>1965</td> <td>6.3                  </td> <td>1.3                </td>\n",
              "        </tr>\n",
              "        <tr>\n",
              "            <td>1966</td> <td>12.9                 </td> <td>1.6                </td>\n",
              "        </tr>\n",
              "        <tr>\n",
              "            <td>1967</td> <td>9.6                  </td> <td>1.5                </td>\n",
              "        </tr>\n",
              "        <tr>\n",
              "            <td>1968</td> <td>10.5                 </td> <td>1.7                </td>\n",
              "        </tr>\n",
              "        <tr>\n",
              "            <td>1969</td> <td>10.6                 </td> <td>1.4                </td>\n",
              "        </tr>\n",
              "    </tbody>\n",
              "</table>\n",
              "<p>... (34 rows omitted)</p>"
            ]
          },
          "metadata": {},
          "execution_count": 30
        }
      ],
      "source": [
        "# You code here\n",
        "\n",
        "alk = mr.where('State', 'Texas').drop('State', 'Population').relabeled(1, 'Murder rate in Texas')\n",
        "mn = mr.where('State', 'Iowa').drop('State', 'Population').relabeled(1, 'Murder rate in Iowa')\n",
        "# Fill in this line to make a table like the one pictured above.\n",
        "alk_mn = ak.join(\"Year\", mn)\n",
        "alk_mn"
      ]
    },
    {
      "cell_type": "code",
      "source": [
        "from ipywidgets import interact, interactive, fixed, interact_manual\n",
        "import ipywidgets as widgets\n",
        "def state(S1, S2):\n",
        "    S1_table = mr.where('State', S1).drop('State', 'Population').relabeled(1, 'Murder rate in {}'.format(S1))\n",
        "    S2_table = mr.where('State', S2).drop('State', 'Population').relabeled(1, 'Murder rate in {}'.format(S2))\n",
        "    s1_s2 = S1_table.join('Year', S2_table)\n",
        "    s1_s2.plot('Year')\n",
        "    plt.show()\n",
        "states_array = mr.group('State').column('State')\n",
        "_ = interact(state,\n",
        "             S1=widgets.Dropdown(options=list(states_array),value='California'),\n",
        "             S2=widgets.Dropdown(options=list(states_array),value='New York')\n",
        ")\n",
        "non_death_penalty_states = make_array('Alaska', 'Hawaii', 'Maine', 'Michigan', 'Wisconsin', 'Minnesota')\n",
        "\n",
        "def had_death_penalty_in_1971(state):\n",
        "    \"\"\"Returns True if the argument is the name of a state that had the death penalty in 1971.\"\"\"\n",
        "# The implementation of this function uses a bit of syntax\n",
        "# we haven't seen before. Just trust that it behaves as its\n",
        "# documentation claims.\n",
        "#return state not in non_death_penalty_states\n",
        "states = mr.group('State').select('State')\n",
        "death_penalty = states.with_column('Death Penalty', states.apply(had_death_penalty_in_1971, 0))\n",
        "death_penalty\n",
        "preban_rates = mr.where(\"Year\", 1971).join(\"State\", death_penalty.where(\"Death Penalty\", True))\n",
        "preban_rates\n",
        "postban_rates = mr.where(\"Year\", 1973).join(\"State\", preban_rates).select(\"State\", \"Year\", \"Population\", \"Murder Rate\")\n",
        "postban_rates = postban_rates.with_column(\"Death Penalty\", False)\n",
        "postban_rates = postban_rates.sort(\"State\")\n",
        "preban_rates_copy = preban_rates.copy()\n",
        "change_in_death_rates = preban_rates_copy.append(postban_rates)\n",
        "change_in_death_rates\n",
        "table = change_in_death_rates.group(\"Death Penalty\", np.average)\n",
        "rate = table.select(\"Death Penalty\", \"Murder Rate average\")\n",
        "rate\n",
        "observed_difference = rate.column(\"Murder Rate average\").item(0) - rate.column(\"Murder Rate average\").item(1)\n",
        "observed_difference\n",
        "def find_test_stat(table, label, group_label):\n",
        "   table = table.group(group_label, np.average)\n",
        "   return table.column(label + \" average\").item(0) - table.column(label + \" average\").item(1)\n",
        "\n",
        "find_test_stat(change_in_death_rates, \"Murder Rate\", \"Death Penalty\")\n",
        "def simulate_and_test_statistic(table, label, group_label):\n",
        "    shuffled_column = table.sample(with_replacement = False).column(group_label)\n",
        "    table = table.drop(group_label).with_column(\"shuffled label\", shuffled_column)\n",
        "    return find_test_stat(table, label, \"shuffled label\")\n",
        "simulate_and_test_statistic(change_in_death_rates, \"Murder Rate\", \"Death Penalty\")\n",
        "diff = make_array()\n",
        "for i in np.arange(5000):\n",
        "   test = simulate_and_test_statistic(change_in_death_rates, \"Murder Rate\", \"Death Penalty\")\n",
        "diff = np.append(diff, test)\n",
        "Table().with_column('Difference ', diff).hist()\n",
        "plt.scatter(observed_difference, 0, color='blue', s=40, zorder=3);\n",
        "empi = sum(diff >= observed_difference) / len(diff)\n",
        "empi\n",
        "print(\"Tests...\")"
      ],
      "metadata": {
        "id": "j4NWxRTn65Dd"
      },
      "execution_count": null,
      "outputs": []
    }
  ],
  "metadata": {
    "kernelspec": {
      "display_name": "Python 3",
      "language": "python",
      "name": "python3"
    },
    "language_info": {
      "codemirror_mode": {
        "name": "ipython",
        "version": 3
      },
      "file_extension": ".py",
      "mimetype": "text/x-python",
      "name": "python",
      "nbconvert_exporter": "python",
      "pygments_lexer": "ipython3",
      "version": "3.8.5"
    },
    "colab": {
      "name": "Assignment_09.ipynb",
      "provenance": [],
      "collapsed_sections": [],
      "include_colab_link": true
    }
  },
  "nbformat": 4,
  "nbformat_minor": 0
}